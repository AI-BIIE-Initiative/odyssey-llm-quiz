{
  "nbformat": 4,
  "nbformat_minor": 0,
  "metadata": {
    "colab": {
      "provenance": []
    },
    "kernelspec": {
      "name": "python3",
      "display_name": "Python 3"
    },
    "language_info": {
      "name": "python"
    }
  },
  "cells": [
    {
      "cell_type": "code",
      "execution_count": 3,
      "metadata": {
        "colab": {
          "base_uri": "https://localhost:8080/"
        },
        "id": "wa-7--9OBCNc",
        "outputId": "414805f3-57a5-449d-9880-0392a8efebe6"
      },
      "outputs": [
        {
          "output_type": "stream",
          "name": "stdout",
          "text": [
            "Cloning into 'odyssey-llm-quiz'...\n",
            "fatal: could not read Username for 'https://github.com': No such device or address\n",
            "/bin/bash: line 1: cd: odyssey-llm-quiz/: No such file or directory\n"
          ]
        }
      ],
      "source": []
    },
    {
      "cell_type": "code",
      "source": [
        "print(hello)"
      ],
      "metadata": {
        "id": "cFjBpuAYBpqQ"
      },
      "execution_count": null,
      "outputs": []
    }
  ]
}